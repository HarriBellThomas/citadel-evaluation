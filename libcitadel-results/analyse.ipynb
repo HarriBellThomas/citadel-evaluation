{
 "cells": [
  {
   "cell_type": "code",
   "execution_count": 35,
   "metadata": {},
   "outputs": [],
   "source": [
    "import numpy as np\n",
    "import sys\n",
    "\n",
    "filepath = \"citadel_benchmarks\"\n",
    "\n",
    "# Open logs file\n",
    "data = {}\n",
    "with open(filepath, \"r\") as logs:\n",
    "    for line in logs:\n",
    "        parts = line.split(\",\")\n",
    "        if parts[0] not in data:\n",
    "            data[parts[0]] = []\n",
    "        data[parts[0]].append(int(parts[1]))"
   ]
  },
  {
   "cell_type": "code",
   "execution_count": 36,
   "metadata": {},
   "outputs": [
    {
     "name": "stdout",
     "output_type": "stream",
     "text": [
      "fork - $47.647\\pm3.457$\n",
      "open - $6.083\\pm0.129$\n",
      "write - $15.597\\pm0.250$\n",
      "read - $7.010\\pm0.192$\n",
      "connect - $17.961\\pm0.330$\n",
      "shmget - $1.613\\pm0.111$\n",
      "shmat - $1.575\\pm0.134$\n",
      "shmctl - $0.743\\pm0.083$\n",
      "shmdt - $1.342\\pm0.040$\n",
      "pipe - $1.088\\pm0.069$\n",
      "mkfifo - $11.509\\pm0.405$\n",
      "close - $0.718\\pm0.011$\n",
      "socket - $3.156\\pm0.290$\n",
      "bind - $1.911\\pm0.184$\n",
      "listen - $1.882\\pm0.149$\n"
     ]
    }
   ],
   "source": [
    "import matplotlib.pyplot as plt\n",
    "\n",
    "for test in data:\n",
    "    sigma = 34.1\n",
    "    median = np.percentile(data[test], 50)\n",
    "    iqr_l = np.percentile(data[test], 50 - sigma)\n",
    "    iqr_h = np.percentile(data[test], 50 + sigma)\n",
    "    std = np.mean([ median - iqr_l, iqr_h - median ])\n",
    "\n",
    "    print(\"{} - ${:.3f}\\pm{:.3f}$\".format(test, median/1000.0, std/1000.0))\n"
   ]
  },
  {
   "cell_type": "code",
   "execution_count": null,
   "metadata": {},
   "outputs": [],
   "source": [
    "\n",
    "    "
   ]
  },
  {
   "cell_type": "code",
   "execution_count": null,
   "metadata": {},
   "outputs": [],
   "source": []
  },
  {
   "cell_type": "code",
   "execution_count": null,
   "metadata": {},
   "outputs": [],
   "source": []
  }
 ],
 "metadata": {
  "kernelspec": {
   "display_name": "Python 3",
   "language": "python",
   "name": "python3"
  },
  "language_info": {
   "codemirror_mode": {
    "name": "ipython",
    "version": 3
   },
   "file_extension": ".py",
   "mimetype": "text/x-python",
   "name": "python",
   "nbconvert_exporter": "python",
   "pygments_lexer": "ipython3",
   "version": "3.7.7"
  }
 },
 "nbformat": 4,
 "nbformat_minor": 2
}

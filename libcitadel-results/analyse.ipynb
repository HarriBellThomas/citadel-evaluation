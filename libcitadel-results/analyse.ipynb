{
 "cells": [
  {
   "cell_type": "code",
   "execution_count": 17,
   "metadata": {},
   "outputs": [],
   "source": [
    "import numpy as np\n",
    "import sys\n",
    "\n",
    "filepaths = [\"native_benchmarks\", \"citadel_benchmarks\"]\n",
    "\n",
    "# Open logs file\n",
    "data = {}\n",
    "for f in filepaths:\n",
    "    data[f] = {}\n",
    "    with open(f, \"r\") as logs:\n",
    "        for line in logs:\n",
    "            parts = line.split(\",\")\n",
    "            if parts[0] not in data[f]:\n",
    "                data[f][parts[0]] = []\n",
    "            data[f][parts[0]].append(int(parts[1]))"
   ]
  },
  {
   "cell_type": "code",
   "execution_count": 28,
   "metadata": {},
   "outputs": [
    {
     "name": "stdout",
     "output_type": "stream",
     "text": [
      "shmat - 0.9923394225103123\n",
      "write - 1.058647584431319\n",
      "read - 1.2630075187969922\n",
      "shmctl - 0.9778714436248683\n",
      "socket - 0.7298686464877213\n",
      "bind - 2.7845238095238094\n",
      "mkfifo - 1.9348122279582967\n",
      "listen - 2.917539267015707\n",
      "pipe - 1.0217761143246002\n",
      "close - 1.1004243281471005\n",
      "fork - 15.775740607034475\n",
      "connect - 1.0509647522063046\n",
      "open - 2.382928275044457\n",
      "shmget - 0.9766550522648083\n",
      "shmdt - 1.0\n"
     ]
    }
   ],
   "source": [
    "import matplotlib.pyplot as plt\n",
    "\n",
    "test_sets = []\n",
    "for f in filepaths:\n",
    "    test_sets.append(set([x for x in data[f].keys()]))\n",
    "\n",
    "tests = set.intersection(*test_sets)\n",
    "\n",
    "for test in tests:    \n",
    "#     sigma = 34.1\n",
    "#     median = np.percentile(data[test], 50)\n",
    "#     iqr_l = np.percentile(data[test], 50 - sigma)\n",
    "#     iqr_h = np.percentile(data[test], 50 + sigma)\n",
    "#     std = np.mean([ median - iqr_l, iqr_h - median ])\n",
    "\n",
    "#     print(\"{} - ${:.3f}\\pm{:.3f}$\".format(test, median/1000.0, std/1000.0))\n",
    "\n",
    "    percentile = 99\n",
    "    native = data[\"native_benchmarks\"][test]\n",
    "    native_percentile = np.percentile(native, percentile)/1000.0\n",
    "    citadel = data[\"citadel_benchmarks\"][test]\n",
    "    citadel_percentile = np.percentile(citadel, percentile)/1000.0\n",
    "\n",
    "    \n",
    "    print(\"{} - {}\".format(test, citadel_percentile / native_percentile))\n"
   ]
  },
  {
   "cell_type": "code",
   "execution_count": null,
   "metadata": {},
   "outputs": [],
   "source": [
    "\n",
    "    "
   ]
  },
  {
   "cell_type": "code",
   "execution_count": null,
   "metadata": {},
   "outputs": [],
   "source": []
  },
  {
   "cell_type": "code",
   "execution_count": null,
   "metadata": {},
   "outputs": [],
   "source": []
  }
 ],
 "metadata": {
  "kernelspec": {
   "display_name": "Python 3",
   "language": "python",
   "name": "python3"
  },
  "language_info": {
   "codemirror_mode": {
    "name": "ipython",
    "version": 3
   },
   "file_extension": ".py",
   "mimetype": "text/x-python",
   "name": "python",
   "nbconvert_exporter": "python",
   "pygments_lexer": "ipython3",
   "version": "3.7.7"
  }
 },
 "nbformat": 4,
 "nbformat_minor": 2
}
